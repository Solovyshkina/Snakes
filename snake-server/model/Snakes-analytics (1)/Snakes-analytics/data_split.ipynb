{
 "cells": [
  {
   "cell_type": "code",
   "execution_count": 33,
   "id": "49e6808e",
   "metadata": {},
   "outputs": [],
   "source": [
    "import pandas as pd, numpy as np\n",
    "import matplotlib.pyplot as plt\n",
    "import os, urllib, itertools, shutil, random"
   ]
  },
  {
   "cell_type": "code",
   "execution_count": 28,
   "id": "783d1873",
   "metadata": {},
   "outputs": [],
   "source": [
    "data_dir = 'C:/Projects_python/Snakes/snake_data' # Указать свой путь к папке с файлами и изображениями\n",
    "os.chdir(data_dir) # назначаем рабочий каталог \n"
   ]
  },
  {
   "cell_type": "code",
   "execution_count": 5,
   "id": "cb7649a4",
   "metadata": {
    "scrolled": true
   },
   "outputs": [
    {
     "name": "stdout",
     "output_type": "stream",
     "text": [
      "gyrza - 140\n"
     ]
    }
   ],
   "source": [
    "def rename_data(path):\n",
    "    folders = [x for x in os.listdir(path)]  # создаем список ['gyrza', 'natrix', 'random', 'smooth', 'viper']\n",
    "    for folder in folders:\n",
    "        path_folder = os.path.join(path, folder)  # добавляем к пути название рабочей папки\n",
    "        count_images = 1\n",
    "        for image in os.listdir(path_folder):  # перебираем фото\n",
    "\n",
    "            image_path = os.path.join(path_folder, image)\n",
    "            new_image_path = os.path.join(path_folder, f'{folder}.{count_images}.jpg')\n",
    "            os.rename(image_path, new_image_path)\n",
    "            count_images += 1\n",
    "\n",
    "        print(f'{folder} - {count_images}')\n",
    "\n",
    "\n",
    "rename_data(data_dir)"
   ]
  },
  {
   "cell_type": "markdown",
   "id": "3b14e989",
   "metadata": {},
   "source": [
    "gyrza - 139\n",
    "natrix - 505\n",
    "random - 472\n",
    "smooth - 159\n",
    "viper - 606"
   ]
  },
  {
   "cell_type": "code",
   "execution_count": 6,
   "id": "3dca6e5d",
   "metadata": {},
   "outputs": [],
   "source": [
    "# Каталог с данными для обучения\n",
    "train_dir = 'train'\n",
    "# Каталог с данными для проверки\n",
    "val_dir = 'val'\n",
    "# Каталог с данными для тестирования\n",
    "test_dir = 'test'\n",
    "# Часть набора данных для тестирования\n",
    "test_data_portion = 0.1\n",
    "# Часть набора данных для проверки\n",
    "val_data_portion = 0.15\n",
    "# Количество элементов данных в одном классе\n",
    "im_gyrza = 139 \n",
    "im_natrix = 505\n",
    "im_random = 472\n",
    "im_smooth = 159\n",
    "im_viper = 606"
   ]
  },
  {
   "cell_type": "code",
   "execution_count": 7,
   "id": "569d14e9",
   "metadata": {},
   "outputs": [],
   "source": [
    "#def create_directory(dir_name):\n",
    "    if os.path.exists(dir_name):\n",
    "        shutil.rmtree(dir_name)\n",
    "    os.makedirs(dir_name)\n",
    "    os.makedirs(os.path.join(dir_name, \"gyrza\"))\n",
    "    os.makedirs(os.path.join(dir_name, \"natrix\")) \n",
    "    os.makedirs(os.path.join(dir_name, \"random\"))\n",
    "    os.makedirs(os.path.join(dir_name, \"smooth\")) \n",
    "    os.makedirs(os.path.join(dir_name, \"viper\"))"
   ]
  },
  {
   "cell_type": "code",
   "execution_count": 8,
   "id": "df7fddd8",
   "metadata": {},
   "outputs": [],
   "source": [
    "create_directory(train_dir)\n",
    "create_directory(valid_dir)\n",
    "create_directory(test_dir)"
   ]
  },
  {
   "cell_type": "code",
   "execution_count": 12,
   "id": "1120cbae",
   "metadata": {},
   "outputs": [
    {
     "name": "stdout",
     "output_type": "stream",
     "text": [
      "1881\n"
     ]
    }
   ],
   "source": [
    "im_total = sum([im_gyrza, im_natrix, im_random, im_smooth, im_viper])\n",
    "classes = ['gyrza', 'natrix', 'random', 'smooth', 'viper']\n",
    "print(im_total)"
   ]
  },
  {
   "cell_type": "code",
   "execution_count": 21,
   "id": "9faa0d0c",
   "metadata": {},
   "outputs": [],
   "source": [
    "def split_train_test(data, ts, val):\n",
    "            \n",
    "    valid_amount = int(data * val)\n",
    "    test_amount = int(data * ts)\n",
    "    train_amount = data - valid_amount - test_amount\n",
    "    return train_amount, valid_amount, test_amount"
   ]
  },
  {
   "cell_type": "code",
   "execution_count": 23,
   "id": "0c10f356",
   "metadata": {},
   "outputs": [
    {
     "name": "stdout",
     "output_type": "stream",
     "text": [
      "Train images: 1411\n",
      "Valid images: 282\n",
      "Test images: 188\n",
      "\n",
      "Valid for class: 56\n",
      "Test for class: 38\n"
     ]
    }
   ],
   "source": [
    "train_amount, valid_amount, test_amount = split_train_test(im_total, 0.1, 0.15)\n",
    "\n",
    "valid_for_class = round(valid_amount / len(classes))\n",
    "test_for_class = round(test_amount / len(classes))\n",
    "\n",
    "print(f'Train images: {train_amount}\\nValid images: {valid_amount}\\nTest images: {test_amount}\\n\\nValid for class: {valid_for_class}\\nTest for class: {test_for_class}')"
   ]
  },
  {
   "cell_type": "markdown",
   "id": "429fac9c",
   "metadata": {},
   "source": [
    "Разделение фото на train, val, test последовательно по рассчитанным индексам"
   ]
  },
  {
   "cell_type": "code",
   "execution_count": null,
   "id": "6aee2d15",
   "metadata": {},
   "outputs": [],
   "source": [
    "def copy_images_1(start_index, end_index, source_dir, dest_dir):\n",
    "    for i in range(start_index, end_index):\n",
    "        shutil.copy2(os.path.join(source_dir, \"cat.\" + str(i) + \".jpg\"), \n",
    "                    os.path.join(dest_dir, \"cats\"))\n",
    "        shutil.copy2(os.path.join(source_dir, \"dog.\" + str(i) + \".jpg\"), \n",
    "                   os.path.join(dest_dir, \"dogs\"))"
   ]
  },
  {
   "cell_type": "code",
   "execution_count": 30,
   "id": "57ffdb9e",
   "metadata": {},
   "outputs": [],
   "source": [
    "def copy_images_2():  \n",
    "    \n",
    "    for name in classes:\n",
    "        os.chdir(data_dir)\n",
    "        shutil.copytree(f'{name}', f'train/{name}', dirs_exist_ok=True)\n",
    "        \n",
    "        valid_samples = random.sample(os.listdir(f'train/{name}'), round(valid_amount / len(classes)))\n",
    "        for j in valid_samples:\n",
    "            shutil.move(f'train/{name}/{j}', f'valid/{name}')\n",
    "            \n",
    "        test_samples = random.sample(os.listdir(f'train/{name}'), round(test_amount / len(classes)))\n",
    "        for k in test_samples:\n",
    "            shutil.move(f'train/{name}/{k}', f'test/{name}')\n",
    "    print('Created train, valid and test directories')\n"
   ]
  },
  {
   "cell_type": "code",
   "execution_count": 34,
   "id": "1d7b2986",
   "metadata": {},
   "outputs": [
    {
     "name": "stdout",
     "output_type": "stream",
     "text": [
      "Created train, valid and test directories\n"
     ]
    }
   ],
   "source": [
    "#copy_images_2()"
   ]
  },
  {
   "cell_type": "code",
   "execution_count": null,
   "id": "7c5c7846",
   "metadata": {},
   "outputs": [],
   "source": []
  }
 ],
 "metadata": {
  "kernelspec": {
   "display_name": "Python 3 (ipykernel)",
   "language": "python",
   "name": "python3"
  },
  "language_info": {
   "codemirror_mode": {
    "name": "ipython",
    "version": 3
   },
   "file_extension": ".py",
   "mimetype": "text/x-python",
   "name": "python",
   "nbconvert_exporter": "python",
   "pygments_lexer": "ipython3",
   "version": "3.11.5"
  }
 },
 "nbformat": 4,
 "nbformat_minor": 5
}
